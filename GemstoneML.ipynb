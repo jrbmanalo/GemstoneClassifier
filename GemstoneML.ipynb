{
 "cells": [
  {
   "cell_type": "code",
   "execution_count": 3,
   "metadata": {},
   "outputs": [],
   "source": [
    "import os\n",
    "import turicreate as tc\n",
    "import matplotlib.pyplot as plt\n",
    "import numpy as np\n",
    "import seaborn as sns\n",
    "\n",
    "from turicreate.toolkits import _pre_trained_models\n",
    "from turicreate.toolkits import _image_feature_extractor"
   ]
  },
  {
   "cell_type": "code",
   "execution_count": 4,
   "metadata": {
    "scrolled": false
   },
   "outputs": [],
   "source": [
    "ptModel = _pre_trained_models.SqueezeNetImageClassifierV1_1()\n",
    "feature_extractor = _image_feature_extractor.TensorFlowFeatureExtractor(ptModel)"
   ]
  },
  {
   "cell_type": "code",
   "execution_count": 5,
   "metadata": {},
   "outputs": [
    {
     "name": "stdout",
     "output_type": "stream",
     "text": [
      "Performing feature extraction on resized images...\n",
      "Completed  64/287\n",
      "Completed 128/287\n",
      "Completed 192/287\n",
      "Completed 256/287\n",
      "Completed 287/287\n"
     ]
    }
   ],
   "source": [
    "train_data = tc.image_analysis.load_images(\"gemstone/train\", with_path=True)\n",
    "train_features = feature_extractor.extract_features(train_data,\n",
    "                                          \"image\", verbose=True)"
   ]
  },
  {
   "cell_type": "code",
   "execution_count": 6,
   "metadata": {},
   "outputs": [
    {
     "data": {
      "text/html": [
       "<div style=\"max-height:1000px;max-width:1500px;overflow:auto;\"><table frame=\"box\" rules=\"cols\">\n",
       "    <tr>\n",
       "        <th style=\"padding-left: 1em; padding-right: 1em; text-align: center\">__image_features__</th>\n",
       "        <th style=\"padding-left: 1em; padding-right: 1em; text-align: center\">label</th>\n",
       "    </tr>\n",
       "    <tr>\n",
       "        <td style=\"padding-left: 1em; padding-right: 1em; text-align: center; vertical-align: top\">[12.246874809265137,<br>10.5948486328125, ...</td>\n",
       "        <td style=\"padding-left: 1em; padding-right: 1em; text-align: center; vertical-align: top\">Aquamarine</td>\n",
       "    </tr>\n",
       "    <tr>\n",
       "        <td style=\"padding-left: 1em; padding-right: 1em; text-align: center; vertical-align: top\">[7.081120491027832,<br>10.476655960083008, ...</td>\n",
       "        <td style=\"padding-left: 1em; padding-right: 1em; text-align: center; vertical-align: top\">Aquamarine</td>\n",
       "    </tr>\n",
       "    <tr>\n",
       "        <td style=\"padding-left: 1em; padding-right: 1em; text-align: center; vertical-align: top\">[11.587231636047363,<br>15.5217866897583, ...</td>\n",
       "        <td style=\"padding-left: 1em; padding-right: 1em; text-align: center; vertical-align: top\">Aquamarine</td>\n",
       "    </tr>\n",
       "    <tr>\n",
       "        <td style=\"padding-left: 1em; padding-right: 1em; text-align: center; vertical-align: top\">[5.346592426300049,<br>10.991842269897461, ...</td>\n",
       "        <td style=\"padding-left: 1em; padding-right: 1em; text-align: center; vertical-align: top\">Aquamarine</td>\n",
       "    </tr>\n",
       "    <tr>\n",
       "        <td style=\"padding-left: 1em; padding-right: 1em; text-align: center; vertical-align: top\">[12.400737762451172,<br>12.429574012756348, ...</td>\n",
       "        <td style=\"padding-left: 1em; padding-right: 1em; text-align: center; vertical-align: top\">Aquamarine</td>\n",
       "    </tr>\n",
       "    <tr>\n",
       "        <td style=\"padding-left: 1em; padding-right: 1em; text-align: center; vertical-align: top\">[10.295933723449707,<br>12.65181827545166, ...</td>\n",
       "        <td style=\"padding-left: 1em; padding-right: 1em; text-align: center; vertical-align: top\">Aquamarine</td>\n",
       "    </tr>\n",
       "    <tr>\n",
       "        <td style=\"padding-left: 1em; padding-right: 1em; text-align: center; vertical-align: top\">[6.958984851837158,<br>11.899666786193848, ...</td>\n",
       "        <td style=\"padding-left: 1em; padding-right: 1em; text-align: center; vertical-align: top\">Aquamarine</td>\n",
       "    </tr>\n",
       "    <tr>\n",
       "        <td style=\"padding-left: 1em; padding-right: 1em; text-align: center; vertical-align: top\">[8.716665267944336,<br>6.1110148429870605, ...</td>\n",
       "        <td style=\"padding-left: 1em; padding-right: 1em; text-align: center; vertical-align: top\">Aquamarine</td>\n",
       "    </tr>\n",
       "    <tr>\n",
       "        <td style=\"padding-left: 1em; padding-right: 1em; text-align: center; vertical-align: top\">[9.774314880371094,<br>10.537230491638184, ...</td>\n",
       "        <td style=\"padding-left: 1em; padding-right: 1em; text-align: center; vertical-align: top\">Aquamarine</td>\n",
       "    </tr>\n",
       "    <tr>\n",
       "        <td style=\"padding-left: 1em; padding-right: 1em; text-align: center; vertical-align: top\">[5.094823360443115,<br>3.911597728729248, ...</td>\n",
       "        <td style=\"padding-left: 1em; padding-right: 1em; text-align: center; vertical-align: top\">Aquamarine</td>\n",
       "    </tr>\n",
       "</table>\n",
       "[10 rows x 2 columns]<br/>\n",
       "</div>"
      ],
      "text/plain": [
       "Columns:\n",
       "\t__image_features__\tarray\n",
       "\tlabel\tstr\n",
       "\n",
       "Rows: 10\n",
       "\n",
       "Data:\n",
       "+-------------------------------+------------+\n",
       "|       __image_features__      |   label    |\n",
       "+-------------------------------+------------+\n",
       "| [12.246874809265137, 10.59... | Aquamarine |\n",
       "| [7.081120491027832, 10.476... | Aquamarine |\n",
       "| [11.587231636047363, 15.52... | Aquamarine |\n",
       "| [5.346592426300049, 10.991... | Aquamarine |\n",
       "| [12.400737762451172, 12.42... | Aquamarine |\n",
       "| [10.295933723449707, 12.65... | Aquamarine |\n",
       "| [6.958984851837158, 11.899... | Aquamarine |\n",
       "| [8.716665267944336, 6.1110... | Aquamarine |\n",
       "| [9.774314880371094, 10.537... | Aquamarine |\n",
       "| [5.094823360443115, 3.9115... | Aquamarine |\n",
       "+-------------------------------+------------+\n",
       "[10 rows x 2 columns]"
      ]
     },
     "execution_count": 6,
     "metadata": {},
     "output_type": "execute_result"
    }
   ],
   "source": [
    "train_data[\"label\"] = train_data[\"path\"].apply(lambda path:\n",
    "                                              os.path.basename(os.path.split(path)[0]))\n",
    "\n",
    "extracted_train_features = tc.SFrame({\n",
    "    \"label\": train_data[\"label\"],\n",
    "    '__image_features__': train_features,\n",
    "    })\n",
    "\n",
    "extracted_train_features.save(\"extracted_train_features.sframe\")\n",
    "extracted_train_features = tc.SFrame(\"extracted_train_features.sframe\")\n",
    "extracted_train_features.head()"
   ]
  },
  {
   "cell_type": "code",
   "execution_count": 7,
   "metadata": {},
   "outputs": [],
   "source": [
    "val_data = tc.image_analysis.load_images(\"gemstone/validation\", with_path=True)\n",
    "val_data[\"label\"] = val_data[\"path\"].apply(lambda path:\n",
    "      os.path.basename(os.path.split(path)[0]))"
   ]
  },
  {
   "cell_type": "code",
   "execution_count": 8,
   "metadata": {},
   "outputs": [
    {
     "name": "stdout",
     "output_type": "stream",
     "text": [
      "Performing feature extraction on resized images...\n",
      "Completed  64/120\n",
      "Completed 120/120\n"
     ]
    }
   ],
   "source": [
    "val_features = feature_extractor.extract_features(val_data,\n",
    "                                      \"image\", verbose=True)\n",
    "\n",
    "extracted_val_features = tc.SFrame({\n",
    "    \"label\": val_data[\"label\"],\n",
    "    '__image_features__': val_features,\n",
    "    })\n",
    "\n",
    "extracted_val_features.save(\"extracted_val_features.sframe\")  "
   ]
  },
  {
   "cell_type": "code",
   "execution_count": 9,
   "metadata": {},
   "outputs": [],
   "source": [
    "test_data = tc.image_analysis.load_images(\"gemstone/test\", with_path=True)\n",
    "test_data[\"label\"] = test_data[\"path\"].apply(lambda path:\n",
    "                                              os.path.basename(os.path.split(path)[0]))"
   ]
  },
  {
   "cell_type": "code",
   "execution_count": 10,
   "metadata": {},
   "outputs": [],
   "source": [
    "def summary_eval(test_data):\n",
    "    \n",
    "    metrics = model.evaluate(test_data)\n",
    "    print(\"Accuracy: \", metrics[\"accuracy\"])\n",
    "    print(\"Precision: \", metrics[\"precision\"])\n",
    "    print(\"Recall: \", metrics[\"recall\"])\n",
    "    \n",
    "    return metrics"
   ]
  },
  {
   "cell_type": "code",
   "execution_count": 11,
   "metadata": {},
   "outputs": [
    {
     "data": {
      "text/html": [
       "<pre>Logistic regression:</pre>"
      ],
      "text/plain": [
       "Logistic regression:"
      ]
     },
     "metadata": {},
     "output_type": "display_data"
    },
    {
     "data": {
      "text/html": [
       "<pre>--------------------------------------------------------</pre>"
      ],
      "text/plain": [
       "--------------------------------------------------------"
      ]
     },
     "metadata": {},
     "output_type": "display_data"
    },
    {
     "data": {
      "text/html": [
       "<pre>Number of examples          : 287</pre>"
      ],
      "text/plain": [
       "Number of examples          : 287"
      ]
     },
     "metadata": {},
     "output_type": "display_data"
    },
    {
     "data": {
      "text/html": [
       "<pre>Number of classes           : 12</pre>"
      ],
      "text/plain": [
       "Number of classes           : 12"
      ]
     },
     "metadata": {},
     "output_type": "display_data"
    },
    {
     "data": {
      "text/html": [
       "<pre>Number of feature columns   : 1</pre>"
      ],
      "text/plain": [
       "Number of feature columns   : 1"
      ]
     },
     "metadata": {},
     "output_type": "display_data"
    },
    {
     "data": {
      "text/html": [
       "<pre>Number of unpacked features : 1000</pre>"
      ],
      "text/plain": [
       "Number of unpacked features : 1000"
      ]
     },
     "metadata": {},
     "output_type": "display_data"
    },
    {
     "data": {
      "text/html": [
       "<pre>Number of coefficients      : 11011</pre>"
      ],
      "text/plain": [
       "Number of coefficients      : 11011"
      ]
     },
     "metadata": {},
     "output_type": "display_data"
    },
    {
     "data": {
      "text/html": [
       "<pre>Starting L-BFGS</pre>"
      ],
      "text/plain": [
       "Starting L-BFGS"
      ]
     },
     "metadata": {},
     "output_type": "display_data"
    },
    {
     "data": {
      "text/html": [
       "<pre>--------------------------------------------------------</pre>"
      ],
      "text/plain": [
       "--------------------------------------------------------"
      ]
     },
     "metadata": {},
     "output_type": "display_data"
    },
    {
     "data": {
      "text/html": [
       "<pre>+-----------+----------+-----------+--------------+-------------------+---------------------+</pre>"
      ],
      "text/plain": [
       "+-----------+----------+-----------+--------------+-------------------+---------------------+"
      ]
     },
     "metadata": {},
     "output_type": "display_data"
    },
    {
     "data": {
      "text/html": [
       "<pre>| Iteration | Passes   | Step size | Elapsed Time | Training Accuracy | Validation Accuracy |</pre>"
      ],
      "text/plain": [
       "| Iteration | Passes   | Step size | Elapsed Time | Training Accuracy | Validation Accuracy |"
      ]
     },
     "metadata": {},
     "output_type": "display_data"
    },
    {
     "data": {
      "text/html": [
       "<pre>+-----------+----------+-----------+--------------+-------------------+---------------------+</pre>"
      ],
      "text/plain": [
       "+-----------+----------+-----------+--------------+-------------------+---------------------+"
      ]
     },
     "metadata": {},
     "output_type": "display_data"
    },
    {
     "data": {
      "text/html": [
       "<pre>| 0         | 5        | 0.077232  | 1.083755     | 0.125436          | 0.083333            |</pre>"
      ],
      "text/plain": [
       "| 0         | 5        | 0.077232  | 1.083755     | 0.125436          | 0.083333            |"
      ]
     },
     "metadata": {},
     "output_type": "display_data"
    },
    {
     "data": {
      "text/html": [
       "<pre>| 1         | 10       | 6.564761  | 1.187306     | 0.473868          | 0.308333            |</pre>"
      ],
      "text/plain": [
       "| 1         | 10       | 6.564761  | 1.187306     | 0.473868          | 0.308333            |"
      ]
     },
     "metadata": {},
     "output_type": "display_data"
    },
    {
     "data": {
      "text/html": [
       "<pre>| 2         | 11       | 6.564761  | 1.225398     | 0.494774          | 0.433333            |</pre>"
      ],
      "text/plain": [
       "| 2         | 11       | 6.564761  | 1.225398     | 0.494774          | 0.433333            |"
      ]
     },
     "metadata": {},
     "output_type": "display_data"
    },
    {
     "data": {
      "text/html": [
       "<pre>| 3         | 14       | 1.184287  | 1.296065     | 0.609756          | 0.483333            |</pre>"
      ],
      "text/plain": [
       "| 3         | 14       | 1.184287  | 1.296065     | 0.609756          | 0.483333            |"
      ]
     },
     "metadata": {},
     "output_type": "display_data"
    },
    {
     "data": {
      "text/html": [
       "<pre>| 4         | 19       | 0.822043  | 1.392623     | 0.717770          | 0.600000            |</pre>"
      ],
      "text/plain": [
       "| 4         | 19       | 0.822043  | 1.392623     | 0.717770          | 0.600000            |"
      ]
     },
     "metadata": {},
     "output_type": "display_data"
    },
    {
     "data": {
      "text/html": [
       "<pre>| 9         | 24       | 1.000000  | 1.576249     | 0.825784          | 0.658333            |</pre>"
      ],
      "text/plain": [
       "| 9         | 24       | 1.000000  | 1.576249     | 0.825784          | 0.658333            |"
      ]
     },
     "metadata": {},
     "output_type": "display_data"
    },
    {
     "data": {
      "text/html": [
       "<pre>| 49        | 81       | 1.483211  | 3.286338     | 0.968641          | 0.741667            |</pre>"
      ],
      "text/plain": [
       "| 49        | 81       | 1.483211  | 3.286338     | 0.968641          | 0.741667            |"
      ]
     },
     "metadata": {},
     "output_type": "display_data"
    },
    {
     "data": {
      "text/html": [
       "<pre>+-----------+----------+-----------+--------------+-------------------+---------------------+</pre>"
      ],
      "text/plain": [
       "+-----------+----------+-----------+--------------+-------------------+---------------------+"
      ]
     },
     "metadata": {},
     "output_type": "display_data"
    }
   ],
   "source": [
    "lr_model = tc.logistic_classifier.create(extracted_train_features,\n",
    "                             features=['__image_features__'],\n",
    "                             target=\"label\",                       \n",
    "                             validation_set=extracted_val_features,\n",
    "                             max_iterations=50,\n",
    "                             seed=None,\n",
    "                             verbose=True,\n",
    "                             l2_penalty=10.0,\n",
    "                             l1_penalty=0.0,\n",
    "                             convergence_threshold=1e-8)"
   ]
  },
  {
   "cell_type": "code",
   "execution_count": 12,
   "metadata": {},
   "outputs": [
    {
     "name": "stderr",
     "output_type": "stream",
     "text": [
      "WARNING:root:TensorFlow version 2.3.0 detected. Last version known to be fully compatible is 1.14.0 .\n"
     ]
    }
   ],
   "source": [
    "from turicreate.toolkits.image_classifier import ImageClassifier\n",
    "\n",
    "state = {\n",
    "    'classifier': lr_model,\n",
    "    'model': ptModel.name,\n",
    "    'max_iterations': lr_model.max_iterations,\n",
    "    'feature_extractor': feature_extractor,\n",
    "    'input_image_shape': ptModel.input_image_shape,\n",
    "    'target': lr_model.target,\n",
    "    'feature': \"image\",\n",
    "    'num_features': 1,\n",
    "    'num_classes': lr_model.num_classes,\n",
    "    'classes': lr_model.classes,\n",
    "    'num_examples': lr_model.num_examples,\n",
    "    'training_time': lr_model.training_time,\n",
    "    'training_loss': lr_model.training_loss,\n",
    "}\n",
    "model = ImageClassifier(state)\n",
    "model.save(\"GemstoneML.model\")\n",
    "model.export_coreml(\"GemstoneML.mlmodel\")"
   ]
  },
  {
   "cell_type": "code",
   "execution_count": 13,
   "metadata": {},
   "outputs": [
    {
     "name": "stdout",
     "output_type": "stream",
     "text": [
      "Class                                    : ImageClassifier\n",
      "\n",
      "Schema\n",
      "------\n",
      "Number of classes                        : 12\n",
      "Number of feature columns                : 1\n",
      "Input image shape                        : (3, 227, 227)\n",
      "\n",
      "Training summary\n",
      "----------------\n",
      "Number of examples                       : 287\n",
      "Training loss                            : 113.4818\n",
      "Training time (sec)                      : 1.0175\n",
      "\n"
     ]
    }
   ],
   "source": [
    "model.summary()"
   ]
  },
  {
   "cell_type": "code",
   "execution_count": 14,
   "metadata": {
    "scrolled": true
   },
   "outputs": [
    {
     "name": "stdout",
     "output_type": "stream",
     "text": [
      "Performing feature extraction on resized images...\n",
      "Completed 48/48\n",
      "Accuracy:  0.9583333333333334\n",
      "Precision:  0.9666666666666668\n",
      "Recall:  0.9583333333333334\n"
     ]
    }
   ],
   "source": [
    "metrics = summary_eval(test_data)"
   ]
  },
  {
   "cell_type": "code",
   "execution_count": 58,
   "metadata": {},
   "outputs": [
    {
     "name": "stdout",
     "output_type": "stream",
     "text": [
      "Resizing image data... Done.\n"
     ]
    }
   ],
   "source": [
    "metrics.explore()"
   ]
  },
  {
   "cell_type": "code",
   "execution_count": 55,
   "metadata": {
    "scrolled": false
   },
   "outputs": [
    {
     "data": {
      "text/plain": [
       "<bound method Model.summary of Class                          : LogisticClassifier\n",
       "\n",
       "Schema\n",
       "------\n",
       "Number of coefficients         : 11011\n",
       "Number of examples             : 287\n",
       "Number of classes              : 12\n",
       "Number of feature columns      : 1\n",
       "Number of unpacked features    : 1000\n",
       "\n",
       "Hyperparameters\n",
       "---------------\n",
       "L1 penalty                     : 0.0\n",
       "L2 penalty                     : 10.0\n",
       "\n",
       "Training Summary\n",
       "----------------\n",
       "Solver                         : lbfgs\n",
       "Solver iterations              : 50\n",
       "Solver status                  : Completed (Iteration limit reached).\n",
       "Training time (sec)            : 1.0729\n",
       "\n",
       "Settings\n",
       "--------\n",
       "Log-likelihood                 : 113.4818\n",
       "\n",
       "Highest Positive Coefficients\n",
       "-----------------------------\n",
       "(intercept)                    : 0.0876\n",
       "(intercept)                    : 0.0784\n",
       "(intercept)                    : 0.0594\n",
       "(intercept)                    : 0.0529\n",
       "__image_features__[603]        : 0.0341\n",
       "\n",
       "Lowest Negative Coefficients\n",
       "----------------------------\n",
       "__image_features__[278]        : -0.0403\n",
       "(intercept)                    : -0.0381\n",
       "(intercept)                    : -0.0364\n",
       "__image_features__[335]        : -0.0323\n",
       "__image_features__[290]        : -0.0308\n",
       ">"
      ]
     },
     "execution_count": 55,
     "metadata": {},
     "output_type": "execute_result"
    }
   ],
   "source": [
    "lr_model.summary"
   ]
  },
  {
   "cell_type": "code",
   "execution_count": 59,
   "metadata": {},
   "outputs": [],
   "source": [
    "labels = test_data[\"label\"].unique().sort()"
   ]
  },
  {
   "cell_type": "code",
   "execution_count": 60,
   "metadata": {},
   "outputs": [],
   "source": [
    "def compute_confusion_matrix(metrics, labels):\n",
    "    num_labels = len(labels)\n",
    "    label_to_index = {l:i for i,l in enumerate(labels)}\n",
    "\n",
    "    conf = np.zeros((num_labels, num_labels), dtype=np.int)\n",
    "    for row in metrics[\"confusion_matrix\"]:\n",
    "        true_label = label_to_index[row[\"target_label\"]]\n",
    "        pred_label = label_to_index[row[\"predicted_label\"]]\n",
    "        conf[true_label, pred_label] = row[\"count\"]\n",
    "\n",
    "    return conf\n",
    "\n",
    "def plot_confusion_matrix(conf, labels, figsize=(8, 8)):\n",
    "    fig = plt.figure(figsize=figsize)\n",
    "    heatmap = sns.heatmap(conf, annot=True, fmt=\"d\")\n",
    "    heatmap.xaxis.set_ticklabels(labels, rotation=45,\n",
    "                                 ha=\"right\", fontsize=12)\n",
    "    heatmap.yaxis.set_ticklabels(labels, rotation=0,\n",
    "                                 ha=\"right\", fontsize=12)\n",
    "    plt.xlabel(\"Predicted label\", fontsize=12)\n",
    "    plt.ylabel(\"True label\", fontsize=12)\n",
    "    plt.show()\n"
   ]
  },
  {
   "cell_type": "code",
   "execution_count": 61,
   "metadata": {
    "scrolled": false
   },
   "outputs": [
    {
     "data": {
      "image/png": "[encoded data removed]",
      "text/plain": [
       "<Figure size 864x864 with 2 Axes>"
      ]
     },
     "metadata": {
      "needs_background": "light"
     },
     "output_type": "display_data"
    }
   ],
   "source": [
    "confusion = compute_confusion_matrix(metrics, labels)\n",
    "plot_confusion_matrix(confusion,  labels, figsize=(12,12))"
   ]
  },
  {
   "cell_type": "code",
   "execution_count": 62,
   "metadata": {
    "scrolled": true
   },
   "outputs": [
    {
     "name": "stdout",
     "output_type": "stream",
     "text": [
      "Aquamarine 75.0%\n",
      "   Emerald 100.0%\n",
      "    Garnet 100.0%\n",
      " Morganite 100.0%\n",
      "      Onyx 100.0%\n",
      "     Pearl 100.0%\n",
      "   Peridot 100.0%\n",
      "      Ruby 75.0%\n",
      "  Sapphire 100.0%\n",
      "Spessartite 100.0%\n",
      "     Topaz 100.0%\n",
      " Turquoise 100.0%\n"
     ]
    }
   ],
   "source": [
    "for i, label in enumerate(labels):\n",
    "    correct = confusion[i, i]\n",
    "    images_per_class = confusion[i].sum()\n",
    "    print(\"%10s %.1f%%\" % (label, 100. * correct/images_per_class))"
   ]
  },
  {
   "cell_type": "code",
   "execution_count": null,
   "metadata": {},
   "outputs": [],
   "source": []
  }
 ],
 "metadata": {
  "kernelspec": {
   "display_name": "Python 3",
   "language": "python",
   "name": "python3"
  },
  "language_info": {
   "codemirror_mode": {
    "name": "ipython",
    "version": 3
   },
   "file_extension": ".py",
   "mimetype": "text/x-python",
   "name": "python",
   "nbconvert_exporter": "python",
   "pygments_lexer": "ipython3",
   "version": "3.6.10"
  }
 },
 "nbformat": 4,
 "nbformat_minor": 4
}
